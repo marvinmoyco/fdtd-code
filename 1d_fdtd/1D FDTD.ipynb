{
 "cells": [
  {
   "cell_type": "markdown",
   "id": "bbef2998",
   "metadata": {},
   "source": [
    "### Importing Libraries\n"
   ]
  },
  {
   "cell_type": "code",
   "execution_count": null,
   "id": "f056f2e2",
   "metadata": {},
   "outputs": [],
   "source": [
    "import numpy as np\n",
    "import matplotlib.pyplot as plt\n",
    "import math\n"
   ]
  },
  {
   "cell_type": "markdown",
   "id": "2c8c4fec",
   "metadata": {},
   "source": [
    "### Initialization of parameters"
   ]
  },
  {
   "cell_type": "code",
   "execution_count": null,
   "id": "indonesian-liberia",
   "metadata": {},
   "outputs": [],
   "source": [
    "mu_r = 2.0\n",
    "epsilon_r = 6.0\n",
    "delta_z = 0.004293 #converted from cm to m\n",
    "N_z = 400\n",
    "n_r = math.sqrt((mu_r*epsilon_r))\n",
    "z = np.zeros((N_z,1))\n",
    "#initialization of device parameters\n",
    "Mu_r = np.ones((1,N_z))\n",
    "Epsilon_r = np.ones((1,N_z))\n",
    "print(Mu_r,Epsilon_r)\n",
    "print(Mu_r.size,Epsilon_r.size)\n",
    "#Adding the materials on the grid\n",
    "\n",
    "Mu_r[:,13:83] = mu_r\n",
    "Epsilon_r[:,13:83] = epsilon_r\n",
    "print(Mu_r.shape,Epsilon_r.shape,z.shape)"
   ]
  },
  {
   "cell_type": "markdown",
   "id": "e92fa2c6",
   "metadata": {},
   "source": [
    "### Initial computations of relevant parameters"
   ]
  },
  {
   "cell_type": "code",
   "execution_count": null,
   "id": "civilian-enzyme",
   "metadata": {},
   "outputs": [],
   "source": [
    "#Compute time step\n",
    "c_0 =  299792458 #m/s\n",
    "delta_t = (1*delta_z)/(2*c_0)\n",
    "print(delta_t)\n",
    "\n",
    "#Compute Source parameters\n",
    "tau = 1/(2*1E9) #Width of gaussian pulse\n",
    "t_0 = 6*tau     #offset in time for source\n",
    "print(tau,t_0)\n",
    "\n",
    "#Compute number of iterations\n",
    "t_prop = (n_r*N_z*delta_z)/c_0\n",
    "T = 12*tau + 5*t_prop\n",
    "iteration = math.ceil(T/delta_t)\n",
    "t = np.linspace(0,iteration*delta_t,iteration)\n",
    "print(T,iteration,t.shape)"
   ]
  },
  {
   "cell_type": "markdown",
   "id": "04a6725e",
   "metadata": {},
   "source": [
    "### Defining source excitation"
   ]
  },
  {
   "cell_type": "code",
   "execution_count": null,
   "id": "sharp-place",
   "metadata": {},
   "outputs": [],
   "source": [
    "def gaussian_source(t,t_0,tau,delta_t,delta_z,c_0):\n",
    "    #Set source permittivity and permeability\n",
    "    mu_src =1 #these parameters should be the material permittivity/permeability at the grid position of the source injection\n",
    "    epsilon_src = 1\n",
    "    n_src = np.sqrt(epsilon_src*mu_src)\n",
    "    delta = (n_src*delta_z/2*c_0)+(delta_t/2)\n",
    "    A = -np.sqrt(epsilon_src/mu_src)\n",
    "    x = (t - t_0)/tau\n",
    "    Esrc = np.exp(-np.power(x,2))\n",
    "    Hsrc = A*np.exp(-np.power(x,2))\n",
    "    return Esrc,Hsrc"
   ]
  },
  {
   "cell_type": "markdown",
   "id": "fb21c507",
   "metadata": {},
   "source": [
    "### Source excitation initialization"
   ]
  },
  {
   "cell_type": "code",
   "execution_count": null,
   "id": "acknowledged-international",
   "metadata": {},
   "outputs": [],
   "source": [
    "Esrc,Hsrc = gaussian_source(t,t_0,tau,delta_t,delta_z,c_0)\n",
    "print(z.shape,Esrc.shape,Hsrc.shape)\n",
    "plt.figure(figsize=[20,5])\n",
    "plt.plot(t,Esrc)\n",
    "plt.plot(t,Hsrc)"
   ]
  },
  {
   "cell_type": "markdown",
   "id": "5b9df3f5",
   "metadata": {},
   "source": [
    "### Main FDTD Loop (Basic Algorithm)\n",
    "\n",
    "In this part, there is no excitation so n"
   ]
  },
  {
   "cell_type": "code",
   "execution_count": null,
   "id": "sporting-auckland",
   "metadata": {},
   "outputs": [],
   "source": [
    "#FDTD Loop\n",
    "#Creating Field values\n",
    "E = np.zeros((1,N_z))\n",
    "H_norm = np.zeros((1,N_z))\n",
    "#Update coefficient values\n",
    "m_E = c_0*delta_t/1\n",
    "m_H = c_0*delta_t/1\n",
    "E.shape,H_norm.shape\n",
    "plt.figure(1)\n",
    "#Update Equations (Looping in time)\n",
    "for i in range(iteration):\n",
    "    #Looping in space\n",
    "    for j in range(N_z-1):\n",
    "        H_norm[:,j] = H_norm[:,j] + m_H*((E[:,j+1] - E[:,j])/delta_z)\n",
    "    #Boundary condition\n",
    "    H_norm[:,N_z-1] = H_norm[:,N_z-1] + m_H*(-E[:,N_z-1]/delta_z)\n",
    "    \n",
    "    #Boundary condition\n",
    "    E[:,0] = E[:,j] + m_E*((H_norm[:,j]-H_norm[:,j-1])/delta_z)\n",
    "    #looping in space (Electric Field)\n",
    "    for j in range(1,N_z):\n",
    "        E[:,j] = E[:,j] + m_E*(H_norm[:,j]/delta_z)\n",
    "    \n",
    "    \n",
    "    \n",
    "    plt.plot(E.T)#Plot E-Field\n",
    "    plt.plot(H_norm.T)#Plot H-Field\n",
    "    plt.ylabel('Value')\n",
    "    plt.xlabel('z (Space)')\n",
    "    plt.title(f'FDTD 1-D Iteration step: {i}/{iteration}')\n",
    "    plt.show()\n",
    "    #lineE.set_xdata(z)\n",
    "    #lineE[0].set_ydata(E[i].T)\n",
    "    #lineH.set_xdata(z)\n",
    "    ##lineH[0].set_ydata(H_norm[i].T)\n",
    "    #plt.pause(1)\n",
    "    #fig.show()\n",
    "    \n",
    "print(E.shape,H_norm.shape)\n",
    "        "
   ]
  },
  {
   "cell_type": "markdown",
   "id": "7435e287",
   "metadata": {},
   "source": [
    "#### FDTD Loop (Algorithm with Soft source)"
   ]
  },
  {
   "cell_type": "code",
   "execution_count": null,
   "id": "fa5dfb8c",
   "metadata": {
    "scrolled": true
   },
   "outputs": [],
   "source": [
    "#FDTD Loop\n",
    "#Creating Field values\n",
    "E = np.zeros((1,N_z))\n",
    "H_norm = np.zeros((1,N_z))\n",
    "#Update coefficient values\n",
    "m_E = c_0*delta_t/1\n",
    "m_H = c_0*delta_t/1\n",
    "E.shape,H_norm.shape\n",
    "#Update Equations (Looping in time)\n",
    "for i in range(iteration):\n",
    "    #Looping in space\n",
    "    for j in range(N_z-1):\n",
    "        H_norm[:,j] = H_norm[:,j] + m_H*((E[:,j+1] - E[:,j])/delta_z)\n",
    "        if j == 3: #Injecting the source\n",
    "            H_norm[:,j] = H_norm[:,j] + Hsrc[i]\n",
    "    #Boundary condition\n",
    "    H_norm[:,N_z-1] = H_norm[:,N_z-1] + m_H*(-E[:,N_z-1]/delta_z)\n",
    "    \n",
    "    #Boundary condition\n",
    "    E[:,0] = E[:,j] + m_E*(H_norm[:,0]/delta_z)\n",
    "    #looping in space (Electric Field)\n",
    "    for j in range(1,N_z):\n",
    "        E[:,j] = E[:,j] + m_E*((H_norm[:,j] - H_norm[:,j-1])/delta_z)\n",
    "        if j == 3: #Injecting the source\n",
    "            E[:,j] = E[:,j] + Esrc[i]\n",
    " \n",
    "    plt.figure(1,[30,10])\n",
    "    plt.plot(E.T)#Plot E-Field\n",
    "    plt.plot(H_norm.T)#Plot H-Field\n",
    "    plt.ylabel('Value')\n",
    "    plt.xlabel('z (Space)')\n",
    "    plt.title(f'FDTD 1-D Iteration step: {i}/{iteration}')\n",
    "    plt.show()\n",
    "    #lineE.set_xdata(z)\n",
    "    #lineE[0].set_ydata(E[i].T)\n",
    "    #lineH.set_xdata(z)\n",
    "    ##lineH[0].set_ydata(H_norm[i].T)\n",
    "    #plt.pause(1)\n",
    "    #fig.show()\n",
    "    \n",
    "print(E.shape,H_norm.shape)"
   ]
  },
  {
   "cell_type": "code",
   "execution_count": null,
   "id": "handled-bangkok",
   "metadata": {},
   "outputs": [],
   "source": [
    "import matplotlib.animation as animation\n",
    "\n",
    "def animate(i):\n",
    "    line1.set_ydata(E[i,:])  # update the data.\n",
    "    line2.set_ydata(H_norm[i,:])\n",
    "    return line1,line2,\n",
    "\n",
    "fig, ax = plt.subplots()\n",
    "line1, = ax.plot(z,E[0])#Plot E-Field\n",
    "line2, = ax.plot(z,H_norm[0])#Plot H-Field\n",
    "\n",
    "ani = animation.FuncAnimation(\n",
    "    fig, animate, interval=iteration, blit=True, save_count=50)\n",
    "\n",
    "# To save the animation, use e.g.\n",
    "#\n",
    "# ani.save(\"movie.mp4\")\n",
    "#\n",
    "# or\n",
    "#\n",
    "# writer = animation.FFMpegWriter(\n",
    "#     fps=15, metadata=dict(artist='Me'), bitrate=1800)\n",
    "# ani.save(\"movie.mp4\", writer=writer)\n",
    "\n",
    "plt.show()"
   ]
  },
  {
   "cell_type": "code",
   "execution_count": null,
   "id": "interracial-mentor",
   "metadata": {},
   "outputs": [],
   "source": [
    "E.shape,H_norm.shape"
   ]
  },
  {
   "cell_type": "code",
   "execution_count": null,
   "id": "e082fa97",
   "metadata": {},
   "outputs": [],
   "source": [
    "number steps in time x number grids"
   ]
  }
 ],
 "metadata": {
  "kernelspec": {
   "display_name": "Python 3",
   "language": "python",
   "name": "python3"
  },
  "language_info": {
   "codemirror_mode": {
    "name": "ipython",
    "version": 3
   },
   "file_extension": ".py",
   "mimetype": "text/x-python",
   "name": "python",
   "nbconvert_exporter": "python",
   "pygments_lexer": "ipython3",
   "version": "3.8.8"
  }
 },
 "nbformat": 4,
 "nbformat_minor": 5
}
