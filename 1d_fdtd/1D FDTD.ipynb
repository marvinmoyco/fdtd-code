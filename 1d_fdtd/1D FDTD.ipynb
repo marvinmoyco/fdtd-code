{
 "cells": [
  {
   "cell_type": "markdown",
   "id": "bbef2998",
   "metadata": {},
   "source": [
    "### Importing Libraries\n"
   ]
  },
  {
   "cell_type": "code",
   "execution_count": null,
   "id": "f056f2e2",
   "metadata": {},
   "outputs": [],
   "source": [
    "import numpy as np\n",
    "import matplotlib.pyplot as plt\n",
    "import matplotlib.animation as animation\n",
    "import math\n"
   ]
  },
  {
   "cell_type": "markdown",
   "id": "2c8c4fec",
   "metadata": {},
   "source": [
    "### Initialization of parameters"
   ]
  },
  {
   "cell_type": "code",
   "execution_count": null,
   "id": "indonesian-liberia",
   "metadata": {},
   "outputs": [],
   "source": [
    "mu_r = 2.0\n",
    "epsilon_r = 6.0\n",
    "mu_0 =1.25663706212E-6 \n",
    "epsilon_0 =8.8541878128E-12\n",
    "imp0 = np.sqrt(mu_0/epsilon_0)\n",
    "delta_z = 0.004293 #converted from cm to m\n",
    "N_z = 200\n",
    "n_r = math.sqrt((mu_r*epsilon_r))\n",
    "z = np.zeros((N_z,1))\n",
    "#initialization of device parameters\n",
    "Mu_r = np.ones((1,N_z))\n",
    "Epsilon_r = np.ones((1,N_z))\n",
    "print(Mu_r,Epsilon_r)\n",
    "print(Mu_r.size,Epsilon_r.size)\n",
    "#Adding the materials on the grid\n",
    "\n",
    "Mu_r[:,13:83] = mu_r\n",
    "Epsilon_r[:,13:83] = epsilon_r\n",
    "print(Mu_r.shape,Epsilon_r.shape,z.shape)"
   ]
  },
  {
   "cell_type": "markdown",
   "id": "e92fa2c6",
   "metadata": {},
   "source": [
    "### Initial computations of relevant parameters"
   ]
  },
  {
   "cell_type": "code",
   "execution_count": null,
   "id": "civilian-enzyme",
   "metadata": {},
   "outputs": [],
   "source": [
    "#Compute time step\n",
    "c_0 =  299792458 #m/s\n",
    "delta_t = (1*delta_z)/(2*c_0)\n",
    "print(delta_t)\n",
    "\n",
    "#Compute Source parameters\n",
    "tau = 1/(2*1.5E9) #Width of gaussian pulse\n",
    "t_0 = 4*tau     #offset in time for source\n",
    "print(tau,t_0)\n",
    "\n",
    "#Compute number of iterations\n",
    "t_prop = (n_r*N_z*delta_z)/c_0\n",
    "T = 12*tau + 5*t_prop\n",
    "iteration = math.ceil(T/delta_t)\n",
    "t = np.linspace(0,iteration*delta_t,iteration)\n",
    "print(T,iteration,t.shape)"
   ]
  },
  {
   "cell_type": "markdown",
   "id": "04a6725e",
   "metadata": {},
   "source": [
    "### Defining source excitation"
   ]
  },
  {
   "cell_type": "code",
   "execution_count": null,
   "id": "sharp-place",
   "metadata": {},
   "outputs": [],
   "source": [
    "def gaussian_source(t,t_0,tau,delta_t,delta_z,c_0):\n",
    "    #Set source permittivity and permeability\n",
    "    mu_src =1 #these parameters should be the material permittivity/permeability at the grid position of the source injection\n",
    "    epsilon_src = 1\n",
    "    n_src = np.sqrt(epsilon_src*mu_src)\n",
    "    delta = (n_src*delta_z/2*c_0)+(delta_t/2)\n",
    "    A = -np.sqrt(epsilon_src/mu_src)\n",
    "    x = (t - t_0)/tau\n",
    "    Esrc = np.exp(-np.power(x,2))\n",
    "    Hsrc = A*np.exp(-np.power(x,2))\n",
    "    return Esrc,Hsrc"
   ]
  },
  {
   "cell_type": "markdown",
   "id": "fb21c507",
   "metadata": {},
   "source": [
    "### Source excitation initialization"
   ]
  },
  {
   "cell_type": "code",
   "execution_count": null,
   "id": "acknowledged-international",
   "metadata": {},
   "outputs": [],
   "source": [
    "Esrc,Hsrc = gaussian_source(t,t_0,tau,delta_t,delta_z,c_0)\n",
    "print(z.shape,Esrc.shape,Hsrc.shape)\n",
    "plt.figure(figsize=[20,5])\n",
    "plt.plot(t,Esrc)\n",
    "plt.plot(t,Hsrc)\n",
    "injection_point = 100\n",
    "print(max(Esrc),min(Esrc),max(Hsrc),min(Hsrc))"
   ]
  },
  {
   "cell_type": "markdown",
   "id": "5b9df3f5",
   "metadata": {},
   "source": [
    "### Main FDTD Loop (Basic Algorithm)\n",
    "\n",
    "In this part, there is no excitation so n"
   ]
  },
  {
   "cell_type": "code",
   "execution_count": null,
   "id": "sporting-auckland",
   "metadata": {},
   "outputs": [],
   "source": [
    "#FDTD Loop\n",
    "#Creating Field values\n",
    "E = np.zeros((1,N_z))\n",
    "H_norm = np.zeros((1,N_z))\n",
    "\n",
    "#Update coefficient values\n",
    "m_E = c_0*delta_t/1\n",
    "m_H = c_0*delta_t/1\n",
    "E.shape,H_norm.shape\n",
    "plt.figure(1)\n",
    "#Update Equations (Looping in time)\n",
    "for i in range(iteration):\n",
    "    #Looping in space\n",
    "    for j in range(N_z-1):\n",
    "        H_norm[:,j] = H_norm[:,j] + m_H*((E[:,j+1] - E[:,j])/delta_z)\n",
    "    #Boundary condition\n",
    "    H_norm[:,N_z-1] = H_norm[:,N_z-1] + m_H*(-E[:,N_z-1]/delta_z)\n",
    "    \n",
    "    #Boundary condition\n",
    "    E[:,0] = E[:,j] + m_E*((H_norm[:,j]-H_norm[:,j-1])/delta_z)\n",
    "    #looping in space (Electric Field)\n",
    "    for j in range(1,N_z):\n",
    "        E[:,j] = E[:,j] + m_E*(H_norm[:,j]/delta_z)\n",
    "    \n",
    "    \n",
    "    \n",
    "    plt.plot(E.T)#Plot E-Field\n",
    "    plt.plot(H_norm.T)#Plot H-Field\n",
    "    plt.ylabel('Value')\n",
    "    plt.xlabel('z (Space)')\n",
    "    plt.title(f'FDTD 1-D Iteration step: {i}/{iteration}')\n",
    "    plt.show()\n",
    "    #lineE.set_xdata(z)\n",
    "    #lineE[0].set_ydata(E[i].T)\n",
    "    #lineH.set_xdata(z)\n",
    "    ##lineH[0].set_ydata(H_norm[i].T)\n",
    "    #plt.pause(1)\n",
    "    #fig.show()\n",
    "    \n",
    "print(E.shape,H_norm.shape)\n",
    "        "
   ]
  },
  {
   "cell_type": "markdown",
   "id": "7435e287",
   "metadata": {},
   "source": [
    "#### FDTD Loop (Algorithm with Soft source) with Dirichlet Boundary Condition"
   ]
  },
  {
   "cell_type": "code",
   "execution_count": null,
   "id": "fa5dfb8c",
   "metadata": {
    "scrolled": true
   },
   "outputs": [],
   "source": [
    "\n",
    "#FDTD Loop\n",
    "#Creating Field values\n",
    "E = np.zeros((1,N_z))\n",
    "H_norm = np.zeros((1,N_z))\n",
    "#Update coefficient values\n",
    "m_E = c_0*delta_t/1\n",
    "m_H = c_0*delta_t/1\n",
    "E.shape,H_norm.shape\n",
    "\n",
    "E_plot = np.zeros([iteration,N_z])\n",
    "H_norm_plot = np.zeros([iteration,N_z])\n",
    "print(E_plot.shape, H_norm_plot.shape)\n",
    "\n",
    "\n",
    "#Update Equations (Looping in time)\n",
    "for i in range(iteration):\n",
    "    #Looping in space\n",
    "    for j in range(N_z-1):\n",
    "        H_norm[:,j] = H_norm[:,j] + m_H*((E[:,j+1] - E[:,j])/delta_z)\n",
    "        if j == injection_point: #Injecting the source\n",
    "            H_norm[:,j] = H_norm[:,j] + Esrc[i]\n",
    "    #Boundary condition\n",
    "    H_norm[:,N_z-1] = H_norm[:,N_z-1] + m_H*(-E[:,N_z-1]/delta_z)\n",
    "    \n",
    "    #Boundary condition\n",
    "    E[:,0] = E[:,j] + m_E*(H_norm[:,0]/delta_z)\n",
    "    #looping in space (Electric Field)\n",
    "    for j in range(1,N_z):\n",
    "        E[:,j] = E[:,j] + m_E*((H_norm[:,j] - H_norm[:,j-1])/delta_z)\n",
    "        if j == injection_point: #Injecting the source\n",
    "            E[:,j] = E[:,j] + Hsrc[i]\n",
    "    \n",
    "    E_plot[i,:] = E\n",
    "    H_norm_plot[i,:] = H_norm\n",
    "    print(\"=============================================================\")\n",
    "    print(f\"Successfully computed field values! Iteration {i}/{iteration}....\")"
   ]
  },
  {
   "cell_type": "markdown",
   "id": "71a32d8e",
   "metadata": {},
   "source": [
    "#### FDTD Hard source with Dirichlet Boundary Condition"
   ]
  },
  {
   "cell_type": "code",
   "execution_count": null,
   "id": "8669f5d4",
   "metadata": {},
   "outputs": [],
   "source": [
    "\n",
    "#FDTD Loop\n",
    "#Creating Field values\n",
    "E = np.zeros((1,N_z))\n",
    "H_norm = np.zeros((1,N_z))\n",
    "#Update coefficient values\n",
    "m_E = c_0*delta_t/1\n",
    "m_H = c_0*delta_t/1\n",
    "E.shape,H_norm.shape\n",
    "\n",
    "E_plot = np.zeros([iteration,N_z])\n",
    "H_norm_plot = np.zeros([iteration,N_z])\n",
    "print(E_plot.shape, H_norm_plot.shape)\n",
    "\n",
    "\n",
    "#Update Equations (Looping in time)\n",
    "for i in range(iteration):\n",
    "    #Looping in space\n",
    "    for j in range(N_z-1):\n",
    "        H_norm[:,j] = H_norm[:,j] + m_H*((E[:,j+1] - E[:,j])/delta_z)\n",
    "        if j == injection_point - 1: #Injecting the source\n",
    "            H_norm[:,j] =  Esrc[i]\n",
    "    #Boundary condition\n",
    "    H_norm[:,N_z-1] = H_norm[:,N_z-1] + m_H*(-E[:,N_z-1]/delta_z)\n",
    "    \n",
    "    #Boundary condition\n",
    "    E[:,0] = E[:,0] + m_E*(H_norm[:,0]/delta_z)\n",
    "    #looping in space (Electric Field)\n",
    "    for j in range(1,N_z):\n",
    "        E[:,j] = E[:,j] + m_E*((H_norm[:,j] - H_norm[:,j-1])/delta_z)\n",
    "        if j == injection_point: #Injecting the source\n",
    "            E[:,j] =  Hsrc[i]\n",
    "    \n",
    "    E_plot[i,:] = E\n",
    "    H_norm_plot[i,:] = H_norm\n",
    "    print(\"=============================================================\")\n",
    "    print(f\"Successfully computed field values! Iteration {i}/{iteration}....\")"
   ]
  },
  {
   "cell_type": "markdown",
   "id": "5ccbc124",
   "metadata": {},
   "source": [
    "#### 1D FDTD Soft Source (with PBC)"
   ]
  },
  {
   "cell_type": "code",
   "execution_count": null,
   "id": "807d31fc",
   "metadata": {},
   "outputs": [],
   "source": [
    "\n",
    "#FDTD Loop\n",
    "#Creating Field values\n",
    "E = np.zeros((1,N_z))\n",
    "H_norm = np.zeros((1,N_z))\n",
    "#Update coefficient values\n",
    "m_E = c_0*delta_t/(1*delta_z)\n",
    "m_H = c_0*delta_t/(1*delta_z)\n",
    "E.shape,H_norm.shape\n",
    "\n",
    "E_plot = np.zeros([iteration,N_z])\n",
    "H_norm_plot = np.zeros([iteration,N_z])\n",
    "print(E_plot.shape, H_norm_plot.shape)\n",
    "\n",
    "#Initializing the perfect boundary condition..\n",
    "e1 = 0\n",
    "e2 = 0\n",
    "e3 = 0 \n",
    "h1 = 0\n",
    "h2 = 0\n",
    "h3 = 0\n",
    "\n",
    "#Update Equations (Looping in time)\n",
    "for i in range(iteration):\n",
    "    \n",
    "    #Looping in space\n",
    "    for j in range(0,N_z-1):\n",
    "        H_norm[:,j] = (H_norm[:,j] + m_H*((E[:,j+1] - E[:,j])))\n",
    "                                          \n",
    "    #Boundary condition\n",
    "    H_norm[:,N_z-1] = (H_norm[:,N_z-1] + m_H*( e3-E[:,N_z-1]))\n",
    "    h3=h2\n",
    "    h2=h1\n",
    "    h1=H_norm[:,0]\n",
    "    \n",
    "                                          \n",
    "    #Boundary condition\n",
    "    E[:,0] = E[:,0] + m_E*(H_norm[:,0]-h3)\n",
    "    #looping in space (Electric Field)\n",
    "    for j in range(1,N_z):\n",
    "        E[:,j] = E[:,j] + m_E*((H_norm[:,j] - H_norm[:,j-1]))\n",
    "    \n",
    "    e3=e2\n",
    "    e2=e1\n",
    "    e1=E[:,N_z-1]\n",
    "    \n",
    "    #Source Injection (Soft Source)\n",
    "    E[:,injection_point] = E[:,injection_point] + Esrc[i]\n",
    "    \n",
    "\n",
    "    \n",
    "    E_plot[i,:] = E\n",
    "    H_norm_plot[i,:] = H_norm\n",
    "    print(\"=============================================================\")\n",
    "    print(f\"Successfully computed field values! Iteration {i}/{iteration}....\")"
   ]
  },
  {
   "cell_type": "code",
   "execution_count": null,
   "id": "fa3c0b5f",
   "metadata": {
    "scrolled": false
   },
   "outputs": [],
   "source": [
    "%matplotlib notebook\n",
    "fig = plt.figure(1,[10,5])\n",
    "ax = fig.add_subplot(111)\n",
    "plt.ion()\n",
    "\n",
    "fig.show()\n",
    "fig.canvas.draw()\n",
    "\n",
    "for i in range(0,iteration):\n",
    "    lineE = E_plot[i,:]\n",
    "    #lineH = H_norm_plot[i,:]\n",
    "    ax.clear()\n",
    "    #plt.legend(handles = [lineE,lineH],labels=[\"Electric Field\",\"Magnetic Field\"])\n",
    "    plt.ylabel('Value')\n",
    "    plt.axvline(x=injection_point, color = \"grey\", linestyle=\"--\")\n",
    "    plt.ylim(-5,5)\n",
    "    plt.xlabel('z (Space)')\n",
    "    #plt.ylimit([-3,3])/\n",
    "    plt.title(f'FDTD 1-D Iteration step: {i}/{iteration}')\n",
    "    ax.plot(lineE)\n",
    "    #ax.plot(lineH)\n",
    "    fig.canvas.draw()\n",
    "    #plt.savefig(f\"1d-fdtd{i}.jpeg\")\n",
    "    ax = plt.axes()\n",
    "    \n"
   ]
  },
  {
   "cell_type": "code",
   "execution_count": 4,
   "id": "e082fa97",
   "metadata": {},
   "outputs": [
    {
     "data": {
      "text/plain": [
       "<Figure size 576x378 with 0 Axes>"
      ]
     },
     "metadata": {},
     "output_type": "display_data"
    }
   ],
   "source": [
    "import numpy as np\n",
    "from math import exp\n",
    "from matplotlib import pyplot as plt\n",
    "ke = 200\n",
    "ex = np.zeros(ke)\n",
    "hy = np.zeros(ke)\n",
    "# Pulse parameters\n",
    "kc = int(ke / 2)\n",
    "t0 = 40\n",
    "spread = 12\n",
    "boundary_low = [0, 0]\n",
    "boundary_high = [0, 0]\n",
    "nsteps = 250\n",
    "# Dictionary to keep track of desired points for plotting\n",
    "plotting_points = [{'num_steps': 100, 'data_to_plot': None, 'label': ''},\n",
    "                   {'num_steps': 225, 'data_to_plot': None, 'label': ''},\n",
    "                   {'num_steps': 250, 'data_to_plot': None, 'label': 'FDTD cells'}]\n",
    "# Main FDTD Loop\n",
    "for time_step in range(1, nsteps + 1):\n",
    "    # Calculate the Ex field\n",
    "    for k in range(1, ke):\n",
    "        ex[k] = ex[k] + 0.5 * (hy[k - 1] - hy[k])\n",
    "    # Put a Gaussian pulse in the middle\n",
    "    pulse = exp(-0.5 * ((t0 - time_step) / spread) ** 2)\n",
    "    ex[kc] = pulse\n",
    "    # Absorbing Boundary Conditions\n",
    "    ex[0] = boundary_low.pop(0)\n",
    "    boundary_low.append(ex[1])\n",
    "    ex[ke - 1] = boundary_high.pop(0)\n",
    "    boundary_high.append(ex[ke - 2])\n",
    "    # Calculate the Hy field\n",
    "    for k in range(ke - 1):\n",
    "        hy[k] = hy[k] + 0.5 * (ex[k] - ex[k + 1])\n",
    "            \n",
    "    # Save data at certain points for later plotting\n",
    "    for plotting_point in plotting_points:\n",
    "        if time_step == plotting_point['num_steps']:\n",
    "            plotting_point['data_to_plot'] = np.copy(ex)\n",
    "            \n",
    "# Plot the outputs as shown in Fig. 1.3\n",
    "plt.rcParams['font.size'] = 12\n",
    "fig = plt.figure(figsize=(8, 5.25))\n",
    "def plot_e_field(data, timestep, label):\n",
    "    \"\"\"Plot of E field at a single time step\"\"\"\n",
    "    plt.plot(data, color='k', linewidth=1)\n",
    "    plt.ylabel('E$_x$', fontsize='14')\n",
    "    plt.xticks(np.arange(0, 199, step=20))\n",
    "    plt.xlim(0, 199)\n",
    "    plt.yticks(np.arange(0, 1.2, step=1))\n",
    "    plt.ylim(-0.2, 1.2)\n",
    "    plt.text(100, 0.5, 'T = {}'.format(timestep),horizontalalignment='center')\n",
    "    plt.xlabel('{}'.format(label))\n",
    "    # Plot the E field at each of the time steps saved earlier\n",
    "    for subplot_num, plotting_point in enumerate(plotting_points):\n",
    "        ax = fig.add_subplot(3, 1, subplot_num + 1)\n",
    "        plot_e_field(plotting_point['data_to_plot'],\n",
    "                     plotting_point['num_steps'],\n",
    "                     plotting_point['label'])\n",
    "    plt.tight_layout()\n",
    "    #plt.show()\n",
    "    "
   ]
  },
  {
   "cell_type": "code",
   "execution_count": null,
   "id": "37deb1e1",
   "metadata": {},
   "outputs": [],
   "source": []
  }
 ],
 "metadata": {
  "kernelspec": {
   "display_name": "Python 3",
   "language": "python",
   "name": "python3"
  },
  "language_info": {
   "codemirror_mode": {
    "name": "ipython",
    "version": 3
   },
   "file_extension": ".py",
   "mimetype": "text/x-python",
   "name": "python",
   "nbconvert_exporter": "python",
   "pygments_lexer": "ipython3",
   "version": "3.8.8"
  }
 },
 "nbformat": 4,
 "nbformat_minor": 5
}
